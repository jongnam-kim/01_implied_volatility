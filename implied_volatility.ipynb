
V0 = 16
r = 0.01

import pandas as pd
h5 = pd.HDFStore('./vstoxx_data_31032014.h5', 'r')

futures_data = h5['futures_data']
options_data = h5['options_data']
h5.close()

futures_data

options_data.info()
