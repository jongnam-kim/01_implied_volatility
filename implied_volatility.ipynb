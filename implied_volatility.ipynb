
V0 = 16
r = 0.01

import pandas as pd
h5 = pd.HDFStore('./vstoxx_data_31032014.h5', 'r')

futures_data = h5['futures_data']
options_data = h5['options_data']
h5.close()

futures_data

options_data.info()


options_data[['DATE', 'MATURITY', 'TTM', 'STRIKE', 'PRICE']].head()

options_data['IMP_VOL'] = 0.0

from bsm_functions import *

tol = 0.5
#for option in options_data.index:
